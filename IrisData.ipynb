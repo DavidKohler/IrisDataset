{
  "cells": [
    {
      "metadata": {
        "_uuid": "831d8d832e806a82fa3ef4b69a6f353c3e612b13"
      },
      "cell_type": "markdown",
      "source": "# **Working with the Iris Species Dataset**\n\nThis is my first notebook on Kaggle and will mainly serve as a way to practice some Machine Learning concepts and exploratory data analysis on a dataset I find particularly interesting. As this is my first notebook, I would appreciate any feedback available!"
    },
    {
      "metadata": {
        "_uuid": "8f2839f25d086af736a60e9eeb907d3b93b6e0e5",
        "_cell_guid": "b1076dfc-b9ad-4769-8c92-a6c4dae69d19",
        "trusted": true
      },
      "cell_type": "code",
      "source": "import numpy as np\nimport pandas as pd\nimport matplotlib.pyplot as plt\nimport seaborn as sns\n%matplotlib inline",
      "execution_count": null,
      "outputs": []
    },
    {
      "metadata": {
        "trusted": true,
        "_uuid": "b0ef5d2ede499c320e41fa55c2d6a7bb10709aad"
      },
      "cell_type": "code",
      "source": "#This will just make the notebook easier to read down the line\nimport warnings\nwarnings.simplefilter(action='ignore', category=FutureWarning)",
      "execution_count": null,
      "outputs": []
    },
    {
      "metadata": {
        "_cell_guid": "79c7e3d0-c299-4dcb-8224-4455121ee9b0",
        "_uuid": "d629ff2d2480ee46fbb7e2d37f6b5fab8052498a",
        "trusted": true
      },
      "cell_type": "code",
      "source": "#Read in the iris dataset and drop the redundant Id column\niris = pd.read_csv('../input/Iris.csv').drop('Id',axis=1)",
      "execution_count": null,
      "outputs": []
    },
    {
      "metadata": {
        "trusted": true,
        "_uuid": "ffffda702f165456b79a84612e68634cafdd28ba"
      },
      "cell_type": "code",
      "source": "#Check the top of the dataframe\niris.head(5)",
      "execution_count": null,
      "outputs": []
    },
    {
      "metadata": {
        "trusted": true,
        "_uuid": "d124e9f4e3be87559a34dc8371e2f62ea6b23cf0"
      },
      "cell_type": "code",
      "source": "#More information about the data\niris.info()",
      "execution_count": null,
      "outputs": []
    },
    {
      "metadata": {
        "_uuid": "0a9a8993df95c54ce573fb8ef51a848ad006b75d"
      },
      "cell_type": "markdown",
      "source": "# Exploratory Data Analysis"
    },
    {
      "metadata": {
        "trusted": true,
        "_uuid": "cbf793071433ed4735d2be497b06c20ea8ff13c4",
        "scrolled": true
      },
      "cell_type": "code",
      "source": "#We'll start off with a pairplot differentiated by species\nsns.pairplot(data=iris, hue='Species', palette='inferno')",
      "execution_count": null,
      "outputs": []
    },
    {
      "metadata": {
        "trusted": true,
        "_uuid": "dfa9da9f8509a108eb6f28f6fc16913c02852aa6"
      },
      "cell_type": "code",
      "source": "#Let's try looking at the data columns\nplt.figure(figsize=(15,10))\nplt.subplot(2,2,1)\nsns.violinplot(x='Species', y='SepalLengthCm', data=iris, palette='plasma')\nplt.subplot(2,2,2)\nsns.violinplot(x='Species', y='SepalWidthCm', data=iris, palette='plasma')\nplt.subplot(2,2,3)\nsns.violinplot(x='Species', y='PetalLengthCm', data=iris, palette='plasma')\nplt.subplot(2,2,4)\nsns.violinplot(x='Species', y='PetalWidthCm', data=iris, palette='plasma')",
      "execution_count": null,
      "outputs": []
    },
    {
      "metadata": {
        "trusted": true,
        "_uuid": "2c6d11d997636d40ebf0927747212ce44f227041"
      },
      "cell_type": "code",
      "source": "sns.heatmap(iris.corr(), annot=True, cmap='coolwarm')",
      "execution_count": null,
      "outputs": []
    },
    {
      "metadata": {
        "_uuid": "5f7d0f394f1ab037a1d7db331658846c0fd4ddea"
      },
      "cell_type": "markdown",
      "source": "It appears petal length and petal width are the most correlated, followed by sepal length and petal length"
    },
    {
      "metadata": {
        "trusted": true,
        "_uuid": "7a1759a4505e6581ef709aec1766d708acdf1523"
      },
      "cell_type": "code",
      "source": "#Let's see those two plots\nplt.figure(figsize=(15,5))\nplt.subplot(1,2,1)\nsns.scatterplot(x='PetalLengthCm', y='PetalWidthCm', data=iris, hue='Species', palette='inferno')\nplt.title('Petal Length vs Petal Width')\nplt.subplot(1,2,2)\nsns.scatterplot(x='PetalLengthCm', y='SepalLengthCm', data=iris, hue='Species', palette='inferno')\nplt.title('Petal Length vs Sepal Length')",
      "execution_count": null,
      "outputs": []
    },
    {
      "metadata": {
        "trusted": true,
        "_uuid": "2004086d5dd9214f8e3f7abe1f18780ea2f4aadd"
      },
      "cell_type": "markdown",
      "source": "It appears the Setosa species is the most separable, so let's look at that by itself"
    },
    {
      "metadata": {
        "trusted": true,
        "_uuid": "5565067778b98c5ebb90edc15574cb8b85d568ae"
      },
      "cell_type": "code",
      "source": "#Make a new dataframe for setosa\nsetosa = iris[iris['Species']=='Iris-setosa']",
      "execution_count": null,
      "outputs": []
    },
    {
      "metadata": {
        "trusted": true,
        "_uuid": "1202b009d3ffe9de952541e9322a7510c20ebf35"
      },
      "cell_type": "code",
      "source": "#Let's see sepal and petal kdeplots for the setosas\nplt.figure(figsize=(15,5))\nplt.subplot(1,2,1)\nsns.kdeplot(setosa['SepalWidthCm'], setosa['SepalLengthCm'], cmap=\"viridis\", shade=True, shade_lowest=False)\nplt.title('Setosa Sepal Width vs Sepal Length')\nplt.subplot(1,2,2)\nsns.kdeplot(setosa['PetalWidthCm'], setosa['PetalLengthCm'], cmap=\"viridis\", shade=True, shade_lowest=False)\nplt.title('Setosa Petal Width vs Petal Length')",
      "execution_count": null,
      "outputs": []
    },
    {
      "metadata": {
        "trusted": true,
        "_uuid": "a5b5386635982c78635a314d8d8d9cc460f8236c"
      },
      "cell_type": "markdown",
      "source": "# Now on to the Machine Learning part\nFirst, the train test split"
    },
    {
      "metadata": {
        "trusted": true,
        "_uuid": "0414790df14363abb976cbe04cbf4452fc519265"
      },
      "cell_type": "code",
      "source": "from sklearn.model_selection import train_test_split",
      "execution_count": null,
      "outputs": []
    },
    {
      "metadata": {
        "_uuid": "318a8e2e3a51271c74fc42db62f9264a905b949b"
      },
      "cell_type": "markdown",
      "source": "We could do a train test split on all the columns of the iris dataframe, but because of the relatively small size of the dataset, we would likely end up getting very high and very similar values for precision and recall (as we will see later). While this is good for a model, it may be more interesting to first predict the species just using the petal information or just using the sepal information to see larger differences between our models"
    },
    {
      "metadata": {
        "trusted": true,
        "_uuid": "0cf73e258072affc49efa851b458e3e63b634880"
      },
      "cell_type": "code",
      "source": "#Let's break our train test split into one for petals and one for sepals\nX_petal = iris[['PetalLengthCm', 'PetalWidthCm']]\nX_sepal = iris[['SepalLengthCm', 'SepalWidthCm']]\ny = iris['Species']\nX_train_p, X_test_p, y_train_p, y_test_p = train_test_split(X_petal, y, test_size=0.30)\nX_train_s, X_test_s, y_train_s, y_test_s = train_test_split(X_sepal, y, test_size=0.30)",
      "execution_count": null,
      "outputs": []
    },
    {
      "metadata": {
        "_uuid": "9044fccd8f7293eaa048eb57e510656b3f8d0a0f"
      },
      "cell_type": "markdown",
      "source": "## First we'll try Logistic Regression"
    },
    {
      "metadata": {
        "trusted": true,
        "_uuid": "79343e715921a17fb72b45e320b9a97d119c1f47"
      },
      "cell_type": "code",
      "source": "from sklearn.linear_model import LogisticRegression",
      "execution_count": null,
      "outputs": []
    },
    {
      "metadata": {
        "trusted": true,
        "_uuid": "a055127e4b7883251301a61adae5f1b3c0c0a78f"
      },
      "cell_type": "code",
      "source": "#We'll make the model and fit it to the training data\nlogmodel_p = LogisticRegression()\nlogmodel_s = LogisticRegression()\nlogmodel_p.fit(X_train_p,y_train_p)\nlogmodel_s.fit(X_train_s,y_train_s)",
      "execution_count": null,
      "outputs": []
    },
    {
      "metadata": {
        "trusted": true,
        "_uuid": "bdde13d459ea55d9a502b4b7b8e4a617049254ab"
      },
      "cell_type": "code",
      "source": "#Now for our predictions\npred_p = logmodel_p.predict(X_test_p)\npred_s = logmodel_s.predict(X_test_s)",
      "execution_count": null,
      "outputs": []
    },
    {
      "metadata": {
        "trusted": true,
        "_uuid": "e0b06ad71e43ff32b052943bec2f8051a4b20ed7"
      },
      "cell_type": "code",
      "source": "from sklearn.metrics import classification_report, confusion_matrix, accuracy_score, r2_score",
      "execution_count": null,
      "outputs": []
    },
    {
      "metadata": {
        "trusted": true,
        "_uuid": "a970d251a9585ff1c52e721b354a0e71bdd4acc7"
      },
      "cell_type": "code",
      "source": "#Here is our classification report and confusion matrix for the Logistic Regression model for petals\nprint(classification_report(y_test_p, pred_p))\nprint(confusion_matrix(y_test_p, pred_p))",
      "execution_count": null,
      "outputs": []
    },
    {
      "metadata": {
        "trusted": true,
        "_uuid": "bca5ee8efe662ae454a019b86aef28f4f096a1a3"
      },
      "cell_type": "code",
      "source": "#Here is our classification report and confusion matrix for the Logistic Regression model for sepals\nprint(classification_report(y_test_s, pred_s))\nprint(confusion_matrix(y_test_s, pred_s))",
      "execution_count": null,
      "outputs": []
    },
    {
      "metadata": {
        "_uuid": "e2c5bfe78582980bd30e78c6c4c5cc71e139c14c",
        "trusted": true
      },
      "cell_type": "code",
      "source": "#Print accuracy scores\nprint('Using Logistic Regression:')\nprint('The accuracy using Petal information is ' + str(accuracy_score(y_test_p, pred_p)))\nprint('The accuracy using Sepal information is ' + str(accuracy_score(y_test_s, pred_s)))",
      "execution_count": null,
      "outputs": []
    },
    {
      "metadata": {
        "_uuid": "a15da7d853a6a1e91e285ba42628c754a29667fc"
      },
      "cell_type": "markdown",
      "source": "## Next we'll try K Nearest Neighbors"
    },
    {
      "metadata": {
        "trusted": true,
        "_uuid": "4afec2466c18ae249099f0ba0d2e6a3f1948af14"
      },
      "cell_type": "code",
      "source": "from sklearn.neighbors import KNeighborsClassifier",
      "execution_count": null,
      "outputs": []
    },
    {
      "metadata": {
        "_uuid": "7a40aad659ede509e2087deba08c63a495400a64"
      },
      "cell_type": "markdown",
      "source": "We could try various values for n_neighbors to minimize our error, but for simplicity we will just choose n=3"
    },
    {
      "metadata": {
        "trusted": true,
        "_uuid": "79550a9ac27c43d2cf4bb8ba59753fe79ac2e273"
      },
      "cell_type": "code",
      "source": "#We'll make the model and fit it to the training data using our n neighbors\nknn_p = KNeighborsClassifier(n_neighbors=3)\nknn_s = KNeighborsClassifier(n_neighbors=3)\nknn_p.fit(X_train_p,y_train_p)\nknn_s.fit(X_train_s,y_train_s)\npred_p = knn_p.predict(X_test_p)\npred_s = knn_s.predict(X_test_s)",
      "execution_count": null,
      "outputs": []
    },
    {
      "metadata": {
        "trusted": true,
        "_uuid": "687fd89f74479cd1e479f0e9fbdd6a8c14d1307d"
      },
      "cell_type": "code",
      "source": "#Here is our classification report and confusion matrix for the KNN n=3 model for petals\nprint(classification_report(y_test_p, pred_p))\nprint(confusion_matrix(y_test_p, pred_p))",
      "execution_count": null,
      "outputs": []
    },
    {
      "metadata": {
        "trusted": true,
        "_uuid": "d6c367238e13d41fd1b6ba603b83bab84b4e1799"
      },
      "cell_type": "code",
      "source": "#Here is our classification report and confusion matrix for the KNN n=3 model for sepals\nprint(classification_report(y_test_s, pred_s))\nprint(confusion_matrix(y_test_s, pred_s))",
      "execution_count": null,
      "outputs": []
    },
    {
      "metadata": {
        "_uuid": "cb6fcca74e5e0c15db73e43a15100965ded6da17",
        "trusted": true
      },
      "cell_type": "code",
      "source": "#Print accuracy scores\nprint('Using KNN:')\nprint('The accuracy using Petal information is ' + str(accuracy_score(y_test_p, pred_p)))\nprint('The accuracy using Sepal information is ' + str(accuracy_score(y_test_s, pred_s)))",
      "execution_count": null,
      "outputs": []
    },
    {
      "metadata": {
        "_uuid": "87c083bb682ede17c4d4d0cc81cbba9a9846d66b"
      },
      "cell_type": "markdown",
      "source": "## Next, Decision Trees"
    },
    {
      "metadata": {
        "trusted": true,
        "_uuid": "5e2b46c42ae2a39f2a6cb64780e129e550257237"
      },
      "cell_type": "code",
      "source": "from sklearn.tree import DecisionTreeClassifier",
      "execution_count": null,
      "outputs": []
    },
    {
      "metadata": {
        "trusted": true,
        "_uuid": "1b580444e40f6e455703795a5e42c41660a8666d"
      },
      "cell_type": "code",
      "source": "#We'll make the model and fit it to the training data\ndtree_p = DecisionTreeClassifier()\ndtree_s = DecisionTreeClassifier()\ndtree_p.fit(X_train_p,y_train_p)\ndtree_s.fit(X_train_s,y_train_s)\npred_p = dtree_p.predict(X_test_p)\npred_s = dtree_s.predict(X_test_s)",
      "execution_count": null,
      "outputs": []
    },
    {
      "metadata": {
        "trusted": true,
        "_uuid": "277a5fec5cb5d43b1f3b87f4f8e3b7e38d3d208a"
      },
      "cell_type": "code",
      "source": "#Here is our classification report and confusion matrix for the Decision Tree model for petals\nprint(classification_report(y_test_p, pred_p))\nprint(confusion_matrix(y_test_p, pred_p))",
      "execution_count": null,
      "outputs": []
    },
    {
      "metadata": {
        "trusted": true,
        "_uuid": "361de6a06b928af8456ced39be614ca420dd007f"
      },
      "cell_type": "code",
      "source": "#Here is our classification report and confusion matrix for the Decision Tree model for sepals\nprint(classification_report(y_test_s, pred_s))\nprint(confusion_matrix(y_test_s, pred_s))",
      "execution_count": null,
      "outputs": []
    },
    {
      "metadata": {
        "_uuid": "1df0efeb5aa97aafcb55a457b8fad8ea62321c15",
        "trusted": true
      },
      "cell_type": "code",
      "source": "#Print accuracy scores\nprint('Using a Decision Tree:')\nprint('The accuracy using Petal information is ' + str(accuracy_score(y_test_p, pred_p)))\nprint('The accuracy using Sepal information is ' + str(accuracy_score(y_test_s, pred_s)))",
      "execution_count": null,
      "outputs": []
    },
    {
      "metadata": {
        "_uuid": "989ea4b78e41c583ac5293f67d1bdc0a5c71a49a"
      },
      "cell_type": "markdown",
      "source": "## Next, expanding to a Random Forest"
    },
    {
      "metadata": {
        "trusted": true,
        "_uuid": "bcf5fceeade10017194b6f4d9d556d1e08c261e2"
      },
      "cell_type": "code",
      "source": "from sklearn.ensemble import RandomForestClassifier",
      "execution_count": null,
      "outputs": []
    },
    {
      "metadata": {
        "trusted": true,
        "_uuid": "711fe5e7bf688a3397c06201b03cfa7045cc40b9"
      },
      "cell_type": "code",
      "source": "#We'll make the model and fit it to the training data using 100 estimators\nrfc_p = RandomForestClassifier(n_estimators=100)\nrfc_s = RandomForestClassifier(n_estimators=100)\nrfc_p.fit(X_train_p, y_train_p)\nrfc_s.fit(X_train_s, y_train_s)\npred_p = rfc_p.predict(X_test_p)\npred_s = rfc_s.predict(X_test_s)",
      "execution_count": null,
      "outputs": []
    },
    {
      "metadata": {
        "trusted": true,
        "_uuid": "1cc4434e40a86bcdb13a6a7fe871babf3845bc7b"
      },
      "cell_type": "code",
      "source": "#Here is our classification report and confusion matrix for the Random Forest model for petals\nprint(classification_report(y_test_p, pred_p))\nprint(confusion_matrix(y_test_p, pred_p))",
      "execution_count": null,
      "outputs": []
    },
    {
      "metadata": {
        "trusted": true,
        "_uuid": "c9f7ee9cc155ec793d9b93db8f3a937b5377d956"
      },
      "cell_type": "code",
      "source": "#Here is our classification report and confusion matrix for the Random Forest model for sepals\nprint(classification_report(y_test_s, pred_s))\nprint(confusion_matrix(y_test_s, pred_s))",
      "execution_count": null,
      "outputs": []
    },
    {
      "metadata": {
        "_uuid": "6b70ecd546e900e88dcfe92c2c0bdba40951d969",
        "trusted": true
      },
      "cell_type": "code",
      "source": "#Print accuracy scores\nprint('Using a Random Forest:')\nprint('The accuracy using Petal information is ' + str(accuracy_score(y_test_p, pred_p)))\nprint('The accuracy using Sepal information is ' + str(accuracy_score(y_test_s, pred_s)))",
      "execution_count": null,
      "outputs": []
    },
    {
      "metadata": {
        "_uuid": "6a97bd97308c1a3104c5b5d1aca77c3770bdfb5d"
      },
      "cell_type": "markdown",
      "source": "## Finally, let's use a Support Vector Machine"
    },
    {
      "metadata": {
        "trusted": true,
        "_uuid": "31042dc39ab30e12a2b45d30f54bc95cd4d3ee1a"
      },
      "cell_type": "code",
      "source": "from sklearn.svm import SVC",
      "execution_count": null,
      "outputs": []
    },
    {
      "metadata": {
        "trusted": true,
        "_uuid": "32dbdaa53d62cb37994fda00084ea16ee1d064ee"
      },
      "cell_type": "code",
      "source": "#We'll make the model and fit it to the training data\nsvc_model_p = SVC()\nsvc_model_s = SVC()\nsvc_model_p.fit(X_train_p,y_train_p)\nsvc_model_s.fit(X_train_s,y_train_s)\npred_p = svc_model_p.predict(X_test_p)\npred_s = svc_model_s.predict(X_test_s)",
      "execution_count": null,
      "outputs": []
    },
    {
      "metadata": {
        "trusted": true,
        "_uuid": "acb913044ee67f83223de97a41e59970234266a9"
      },
      "cell_type": "code",
      "source": "#Here is our classification report and confusion matrix for the SVM model for petals\nprint(classification_report(y_test_p, pred_p))\nprint(confusion_matrix(y_test_p, pred_p))",
      "execution_count": null,
      "outputs": []
    },
    {
      "metadata": {
        "trusted": true,
        "_uuid": "f520767b5b80eb1f41b32a646fa9ed88a7d8d772"
      },
      "cell_type": "code",
      "source": "#Here is our classification report and confusion matrix for the SVM model for sepals\nprint(classification_report(y_test_s, pred_s))\nprint(confusion_matrix(y_test_s, pred_s))",
      "execution_count": null,
      "outputs": []
    },
    {
      "metadata": {
        "_uuid": "c3d1ee7449610c2265a2afa5dba442c5633c2595",
        "trusted": true
      },
      "cell_type": "code",
      "source": "#Print accuracy scores\nprint('Using SVM:')\nprint('The accuracy using Petal information is ' + str(accuracy_score(y_test_p, pred_p)))\nprint('The accuracy using Sepal information is ' + str(accuracy_score(y_test_s, pred_s)))",
      "execution_count": null,
      "outputs": []
    },
    {
      "metadata": {
        "_uuid": "6bdc27f0ee17cd82d22fb401c0255e8df6000796"
      },
      "cell_type": "markdown",
      "source": "## Overall\nIt appears that overall it is best to use petal information to predict iris species, rather than sepal data to get a more accurate model"
    },
    {
      "metadata": {
        "_uuid": "ff13c20be692210650ee410ea39a3e4b922fc05c"
      },
      "cell_type": "markdown",
      "source": "# Putting it all together\n\nNow instead of just using either petal data or sepal data, we will use them both to predict the iris species"
    },
    {
      "metadata": {
        "trusted": true,
        "_uuid": "9fb33d9646847131806d8e030078af70995feb52"
      },
      "cell_type": "code",
      "source": "#Another train test split\nX = iris.drop('Species', axis=1)\ny = iris['Species']\nX_train, X_test, y_train, y_test = train_test_split(X, y, test_size=0.30)",
      "execution_count": null,
      "outputs": []
    },
    {
      "metadata": {
        "_uuid": "c35f459571237eea81e1f617fd52ec756068cd50"
      },
      "cell_type": "markdown",
      "source": "## Logistic Regression"
    },
    {
      "metadata": {
        "trusted": true,
        "_uuid": "b6c0dd91277b59a8f82288d589fe17cd921aa35d"
      },
      "cell_type": "code",
      "source": "#We'll make the model and fit it to the training data\nlogmodel = LogisticRegression()\nlogmodel.fit(X_train,y_train)\npred = logmodel.predict(X_test)",
      "execution_count": null,
      "outputs": []
    },
    {
      "metadata": {
        "trusted": true,
        "_uuid": "837d011b6698260a2378abe718dffd7ad718c563"
      },
      "cell_type": "code",
      "source": "#Here is our classification report and confusion matrix for the Logistic Regression model\nprint(classification_report(y_test, pred))\nprint(confusion_matrix(y_test, pred))",
      "execution_count": null,
      "outputs": []
    },
    {
      "metadata": {
        "trusted": true,
        "_uuid": "0dd99e113a038fd030d5615b50db7ba5ef78d23b"
      },
      "cell_type": "code",
      "source": "#Print accuracy scores\nprint('Using Logistic Regression:')\nprint('The accuracy is ' + str(accuracy_score(y_test, pred)))",
      "execution_count": null,
      "outputs": []
    },
    {
      "metadata": {
        "_uuid": "78b9a1d06e1ba937d58954851d972958d4fc4d27"
      },
      "cell_type": "markdown",
      "source": "## K Nearest Neighbors\n\nSimilar to earlier, instead of testing different values of n_neighbors to minimize our error, we will just use n=3 for simplicity"
    },
    {
      "metadata": {
        "trusted": true,
        "_uuid": "f804738476e2ad834e8b9a20140a3ad945137583"
      },
      "cell_type": "code",
      "source": "#We will use n=3\nknn = KNeighborsClassifier(n_neighbors=3)\nknn.fit(X_train,y_train)\npred = knn.predict(X_test)",
      "execution_count": null,
      "outputs": []
    },
    {
      "metadata": {
        "trusted": true,
        "_uuid": "7ab3e2e25b6071d78cdc482582d661f275548a93"
      },
      "cell_type": "code",
      "source": "#Here is our classification report and confusion matrix for the KNN n=3 model\nprint(classification_report(y_test, pred))\nprint(confusion_matrix(y_test, pred))",
      "execution_count": null,
      "outputs": []
    },
    {
      "metadata": {
        "trusted": true,
        "_uuid": "13e1148b4d8adbf57b6842a6efeceb7b9908e048"
      },
      "cell_type": "code",
      "source": "#Print accuracy scores\nprint('Using KNN:')\nprint('The accuracy is ' + str(accuracy_score(y_test, pred)))",
      "execution_count": null,
      "outputs": []
    },
    {
      "metadata": {
        "_uuid": "f1124dab30a923abaac29122c639e4e2686be876"
      },
      "cell_type": "markdown",
      "source": "## Decision Tree"
    },
    {
      "metadata": {
        "trusted": true,
        "_uuid": "9012c484d7a945d913b222c75bbb39a0aede7ca6"
      },
      "cell_type": "code",
      "source": "#We'll make the model and fit it to the training data\ndtree = DecisionTreeClassifier()\ndtree.fit(X_train,y_train)\npred = dtree.predict(X_test)",
      "execution_count": null,
      "outputs": []
    },
    {
      "metadata": {
        "trusted": true,
        "_uuid": "0060c91dab44d3baf3686c379722cf255d99c565"
      },
      "cell_type": "code",
      "source": "#Here is our classification report and confusion matrix for the Decision Tree model\nprint(classification_report(y_test, pred))\nprint(confusion_matrix(y_test, pred))",
      "execution_count": null,
      "outputs": []
    },
    {
      "metadata": {
        "trusted": true,
        "_uuid": "6e0ace84b8bff10a95a0ee2c0faed8d788b1ee3e"
      },
      "cell_type": "code",
      "source": "#Print accuracy scores\nprint('Using a Decision Tree:')\nprint('The accuracy is ' + str(accuracy_score(y_test, pred)))",
      "execution_count": null,
      "outputs": []
    },
    {
      "metadata": {
        "_uuid": "693699d0d62d9bae8c6b00b17e773c1ea0edf9d4"
      },
      "cell_type": "markdown",
      "source": "## Random Forest"
    },
    {
      "metadata": {
        "trusted": true,
        "_uuid": "d8fc9d872857cbc64087f102f3fc00ae092e2f61"
      },
      "cell_type": "code",
      "source": "#We'll make the model and fit it to the training data using 100 estimators\nrfc = RandomForestClassifier(n_estimators=100)\nrfc.fit(X_train, y_train)\npred = rfc.predict(X_test)",
      "execution_count": null,
      "outputs": []
    },
    {
      "metadata": {
        "trusted": true,
        "_uuid": "d897be25d006061a39508382bbde8140f1f80992"
      },
      "cell_type": "code",
      "source": "#Here is our classification report and confusion matrix for the Random Forest model\nprint(classification_report(y_test, pred))\nprint(confusion_matrix(y_test, pred))",
      "execution_count": null,
      "outputs": []
    },
    {
      "metadata": {
        "trusted": true,
        "_uuid": "dfb060f4b91047805f4f899d012d912a245a37a1"
      },
      "cell_type": "code",
      "source": "#Print accuracy scores\nprint('Using a Random Forest:')\nprint('The accuracy is ' + str(accuracy_score(y_test, pred)))",
      "execution_count": null,
      "outputs": []
    },
    {
      "metadata": {
        "_uuid": "434f95f3ebb441210c0c6d81a98317a3e94e5b9d"
      },
      "cell_type": "markdown",
      "source": "## SVM"
    },
    {
      "metadata": {
        "trusted": true,
        "_uuid": "f9a5eeccb5b606048af9ad9195d48e6f7401da03"
      },
      "cell_type": "code",
      "source": "#We'll make the model and fit it to the training data\nsvc_model = SVC()\nsvc_model.fit(X_train,y_train)\npred = svc_model.predict(X_test)",
      "execution_count": null,
      "outputs": []
    },
    {
      "metadata": {
        "trusted": true,
        "_uuid": "2b3c9a36b93023d2599cbf399abd930cd33e825f"
      },
      "cell_type": "code",
      "source": "#Here is our classification report and confusion matrix for the SVM model\nprint(classification_report(y_test, pred))\nprint(confusion_matrix(y_test, pred))",
      "execution_count": null,
      "outputs": []
    },
    {
      "metadata": {
        "trusted": true,
        "_uuid": "6e92763325810af988b87541a5269825b8692d3b"
      },
      "cell_type": "code",
      "source": "#Print accuracy scores\nprint('Using SVM:')\nprint('The accuracy is ' + str(accuracy_score(y_test, pred)))",
      "execution_count": null,
      "outputs": []
    },
    {
      "metadata": {
        "_uuid": "437d3d3edf2c0dc7c00008d6fb9f652174ae2248"
      },
      "cell_type": "markdown",
      "source": "# Overall\n\nIt appears that using both the petal data and the sepal data together to build our models resulted in equal and better accuracy than the models trained above that used either but not both. Please give me feedback on what you think!"
    },
    {
      "metadata": {
        "trusted": true,
        "_uuid": "15484b8704de060243e844dfd2e391c8fcb557c5"
      },
      "cell_type": "code",
      "source": "",
      "execution_count": null,
      "outputs": []
    }
  ],
  "metadata": {
    "kernelspec": {
      "display_name": "Python 3",
      "language": "python",
      "name": "python3"
    },
    "language_info": {
      "name": "python",
      "version": "3.6.6",
      "mimetype": "text/x-python",
      "codemirror_mode": {
        "name": "ipython",
        "version": 3
      },
      "pygments_lexer": "ipython3",
      "nbconvert_exporter": "python",
      "file_extension": ".py"
    }
  },
  "nbformat": 4,
  "nbformat_minor": 1
}